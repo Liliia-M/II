{
 "cells": [
  {
   "cell_type": "code",
   "execution_count": 1,
   "metadata": {},
   "outputs": [],
   "source": [
    "from selenium import webdriver\n",
    "from selenium.webdriver.chrome.options import Options\n",
    "from selenium.webdriver.support.ui import WebDriverWait\n",
    "from selenium.webdriver.support import expected_conditions as EC\n",
    "from selenium.webdriver.common.by import By\n",
    "from selenium.webdriver.common.keys import Keys\n",
    "import time\n",
    "import re\n",
    "import pandas as pd\n",
    "import matplotlib.pyplot as plt\n",
    "# Настройка формата вывода чисел float\n",
    "pd.set_option('display.float_format', '{:.2f}'.format)"
   ]
  },
  {
   "cell_type": "code",
   "execution_count": 2,
   "metadata": {},
   "outputs": [],
   "source": [
    "options = Options()\n",
    "# Запуск браузера с развернутым экраном\n",
    "options.add_argument('start-maximized')\n",
    "# Будем использовать браузер Chrom\n",
    "driver = webdriver.Chrome(options=options)\n",
    "# Открываем ссылку\n",
    "driver.get('https://www.wildberries.ru/')\n",
    "time.sleep(4)"
   ]
  },
  {
   "cell_type": "code",
   "execution_count": 3,
   "metadata": {},
   "outputs": [],
   "source": [
    "wait = WebDriverWait(driver, 10)\n",
    "# Ищем строку поиска\n",
    "input = wait.until(EC.presence_of_element_located((By.ID, \"searchInput\")))\n",
    "# Вводим фразу поиска и нажимаем Enter\n",
    "input.send_keys('аккумулятор для ибп 12v')\n",
    "input.send_keys(Keys.ENTER)"
   ]
  },
  {
   "cell_type": "markdown",
   "metadata": {},
   "source": [
    "Прокручиваем страницу и записываем все ссылки на аккумуляторы, если есть кнопка \"далее\" - нажимаем её или выходим из цикла"
   ]
  },
  {
   "cell_type": "code",
   "execution_count": 4,
   "metadata": {},
   "outputs": [],
   "source": [
    "# Список ссылок на страницы аккумулятора\n",
    "url_list = []\n",
    "\n",
    "while True:\n",
    "    # Количество аккумуляторов на странице\n",
    "    count = None\n",
    "    while True:\n",
    "        time.sleep(4)\n",
    "        # Ожидаем появление объекта (html код) карточек товара\n",
    "        cards = wait.until(EC.presence_of_all_elements_located((By.XPATH, '//article[@id]')))\n",
    "        # Выходим из цикла, если при прокрутке страницы, количество товаров не меняется \n",
    "        if len(cards) == count:\n",
    "            break    \n",
    "        # Вычисляем сколько карточек товара на странице\n",
    "        count = len(cards)\n",
    "        # Прокручиваем страницу выполняя JAVA Script\n",
    "        driver.execute_script('window.scrollBy(0, 1800)')\n",
    "        time.sleep(2)\n",
    "        \n",
    "    # На полностью загруженной странице соберём инфу\n",
    "    for card in cards:\n",
    "        # Записываем ссылку каждого аккумулятора\n",
    "        url = card.find_element(By.XPATH, './div/a').get_attribute('href')\n",
    "        url_list.append(url)\n",
    "    \n",
    "    # Проверяем есть ли кнопка дальше\n",
    "    try:\n",
    "        next = driver.find_element(By.XPATH,  \"//a[@class='pagination-next pagination__next j-next-page']\")\n",
    "        next.click()\n",
    "    except Exception:\n",
    "        break"
   ]
  },
  {
   "cell_type": "code",
   "execution_count": 5,
   "metadata": {},
   "outputs": [
    {
     "name": "stdout",
     "output_type": "stream",
     "text": [
      "Всего получено: 860 ссылок на аккумуляторы\n"
     ]
    }
   ],
   "source": [
    "print(f'Всего получено: {len(url_list)} ссылок на аккумуляторы')"
   ]
  },
  {
   "cell_type": "markdown",
   "metadata": {},
   "source": [
    "Заходим на каждую страницу найденныж аккомуляторов и парсим её"
   ]
  },
  {
   "cell_type": "code",
   "execution_count": 6,
   "metadata": {},
   "outputs": [
    {
     "ename": "TimeoutException",
     "evalue": "Message: \nStacktrace:\n\tGetHandleVerifier [0x00007FF781757032+63090]\n\t(No symbol) [0x00007FF7816C2C82]\n\t(No symbol) [0x00007FF78155EC65]\n\t(No symbol) [0x00007FF7815A499D]\n\t(No symbol) [0x00007FF7815A4ADC]\n\t(No symbol) [0x00007FF7815E5B37]\n\t(No symbol) [0x00007FF7815C701F]\n\t(No symbol) [0x00007FF7815E3412]\n\t(No symbol) [0x00007FF7815C6D83]\n\t(No symbol) [0x00007FF7815983A8]\n\t(No symbol) [0x00007FF781599441]\n\tGetHandleVerifier [0x00007FF781B525AD+4238317]\n\tGetHandleVerifier [0x00007FF781B8F70D+4488525]\n\tGetHandleVerifier [0x00007FF781B879EF+4456495]\n\tGetHandleVerifier [0x00007FF781830576+953270]\n\t(No symbol) [0x00007FF7816CE54F]\n\t(No symbol) [0x00007FF7816C9224]\n\t(No symbol) [0x00007FF7816C935B]\n\t(No symbol) [0x00007FF7816B9B94]\n\tBaseThreadInitThunk [0x00007FFD4F7B7344+20]\n\tRtlUserThreadStart [0x00007FFD4FB826B1+33]\n",
     "output_type": "error",
     "traceback": [
      "\u001b[1;31m---------------------------------------------------------------------------\u001b[0m",
      "\u001b[1;31mTimeoutException\u001b[0m                          Traceback (most recent call last)",
      "Cell \u001b[1;32mIn[6], line 11\u001b[0m\n\u001b[0;32m      9\u001b[0m driver2\u001b[38;5;241m.\u001b[39mget(url_item)\n\u001b[0;32m     10\u001b[0m \u001b[38;5;66;03m# Заносим назание аккумулятора\u001b[39;00m\n\u001b[1;32m---> 11\u001b[0m acb_dict[\u001b[38;5;124m'\u001b[39m\u001b[38;5;124mname\u001b[39m\u001b[38;5;124m'\u001b[39m] \u001b[38;5;241m=\u001b[39m \u001b[43mwait2\u001b[49m\u001b[38;5;241;43m.\u001b[39;49m\u001b[43muntil\u001b[49m\u001b[43m(\u001b[49m\u001b[43mEC\u001b[49m\u001b[38;5;241;43m.\u001b[39;49m\u001b[43mpresence_of_element_located\u001b[49m\u001b[43m(\u001b[49m\u001b[43m(\u001b[49m\u001b[43mBy\u001b[49m\u001b[38;5;241;43m.\u001b[39;49m\u001b[43mXPATH\u001b[49m\u001b[43m,\u001b[49m\u001b[43m \u001b[49m\u001b[38;5;124;43m\"\u001b[39;49m\u001b[38;5;124;43m//h1\u001b[39;49m\u001b[38;5;124;43m\"\u001b[39;49m\u001b[43m)\u001b[49m\u001b[43m)\u001b[49m\u001b[43m)\u001b[49m\u001b[38;5;241m.\u001b[39mtext\n\u001b[0;32m     12\u001b[0m \u001b[38;5;66;03m# Заносим цену аккумулятора\u001b[39;00m\n\u001b[0;32m     13\u001b[0m price \u001b[38;5;241m=\u001b[39m wait2\u001b[38;5;241m.\u001b[39muntil(EC\u001b[38;5;241m.\u001b[39mpresence_of_all_elements_located((By\u001b[38;5;241m.\u001b[39mCLASS_NAME, \u001b[38;5;124m'\u001b[39m\u001b[38;5;124mprice-block__wallet-price\u001b[39m\u001b[38;5;124m'\u001b[39m)))\n",
      "File \u001b[1;32mc:\\Python38\\lib\\site-packages\\selenium\\webdriver\\support\\wait.py:105\u001b[0m, in \u001b[0;36mWebDriverWait.until\u001b[1;34m(self, method, message)\u001b[0m\n\u001b[0;32m    103\u001b[0m     \u001b[38;5;28;01mif\u001b[39;00m time\u001b[38;5;241m.\u001b[39mmonotonic() \u001b[38;5;241m>\u001b[39m end_time:\n\u001b[0;32m    104\u001b[0m         \u001b[38;5;28;01mbreak\u001b[39;00m\n\u001b[1;32m--> 105\u001b[0m \u001b[38;5;28;01mraise\u001b[39;00m TimeoutException(message, screen, stacktrace)\n",
      "\u001b[1;31mTimeoutException\u001b[0m: Message: \nStacktrace:\n\tGetHandleVerifier [0x00007FF781757032+63090]\n\t(No symbol) [0x00007FF7816C2C82]\n\t(No symbol) [0x00007FF78155EC65]\n\t(No symbol) [0x00007FF7815A499D]\n\t(No symbol) [0x00007FF7815A4ADC]\n\t(No symbol) [0x00007FF7815E5B37]\n\t(No symbol) [0x00007FF7815C701F]\n\t(No symbol) [0x00007FF7815E3412]\n\t(No symbol) [0x00007FF7815C6D83]\n\t(No symbol) [0x00007FF7815983A8]\n\t(No symbol) [0x00007FF781599441]\n\tGetHandleVerifier [0x00007FF781B525AD+4238317]\n\tGetHandleVerifier [0x00007FF781B8F70D+4488525]\n\tGetHandleVerifier [0x00007FF781B879EF+4456495]\n\tGetHandleVerifier [0x00007FF781830576+953270]\n\t(No symbol) [0x00007FF7816CE54F]\n\t(No symbol) [0x00007FF7816C9224]\n\t(No symbol) [0x00007FF7816C935B]\n\t(No symbol) [0x00007FF7816B9B94]\n\tBaseThreadInitThunk [0x00007FFD4F7B7344+20]\n\tRtlUserThreadStart [0x00007FFD4FB826B1+33]\n"
     ]
    }
   ],
   "source": [
    "driver2 = webdriver.Chrome(options=options)\n",
    "wait2 = WebDriverWait(driver2, 10)\n",
    "acb_list = []\n",
    "\n",
    "# Просматриваем все ссылки ан аккумуляторы\n",
    "for url_item in url_list:\n",
    "    acb_dict = {}\n",
    "    \n",
    "    driver2.get(url_item)\n",
    "    # Заносим назание аккумулятора\n",
    "    acb_dict['name'] = wait2.until(EC.presence_of_element_located((By.XPATH, \"//h1\"))).text\n",
    "    # Заносим цену аккумулятора\n",
    "    price = wait2.until(EC.presence_of_all_elements_located((By.CLASS_NAME, 'price-block__wallet-price')))\n",
    "    try:\n",
    "        acb_dict['price'] = float(re.sub(r'[^\\d.]+', '', price[1].text))\n",
    "    except Exception:\n",
    "        acb_dict['price'] = None\n",
    "    # Заносим бренд аккумулятора\n",
    "    acb_dict['brend'] = wait2.until(EC.presence_of_element_located((By.CLASS_NAME, \"product-page__header-brand\"))).text\n",
    "    # Заносим url ссылку на аккумулятор\n",
    "    acb_dict['url'] = url_item   \n",
    "    \n",
    "    # Обрабатываем табличные данные\n",
    "    table_label = wait2.until(EC.presence_of_all_elements_located((By.XPATH, '//th')))\n",
    "    table_param = wait2.until(EC.presence_of_all_elements_located((By.XPATH, '//td')))\n",
    "    # Заносим данные в зависимости от названия   \n",
    "    for i in range(len(table_label)):\n",
    "        if table_label[i].text == 'Страна производства':\n",
    "            acb_dict['country'] = table_param[i].text\n",
    "        elif table_label[i].text == 'Емкость аккумулятора (Ач)':\n",
    "            try:\n",
    "                val = table_param[i].text.strip()\n",
    "                val, *_ = val.split()\n",
    "                acb_dict['capacity'] = float(re.sub(r'[^\\d.]+', '', val))\n",
    "            except Exception:\n",
    "                acb_dict['capacity'] = None\n",
    "        elif table_label[i].text == 'Напряжение':\n",
    "             try:\n",
    "                val = table_param[i].text.strip()\n",
    "                val, *_ = val.split() \n",
    "                acb_dict['voltage'] = float(re.sub(r'[^\\d.]+', '', val))\n",
    "             except Exception:\n",
    "                acb_dict['voltage'] = None\n",
    "        \n",
    "    # Добавляем словарь в список аккумуляторов\n",
    "    acb_list.append(acb_dict)"
   ]
  },
  {
   "cell_type": "code",
   "execution_count": 7,
   "metadata": {},
   "outputs": [
    {
     "name": "stdout",
     "output_type": "stream",
     "text": [
      "Обработано 317 страниц\n"
     ]
    }
   ],
   "source": [
    "print(f'Обработано {len(acb_list)} страниц')"
   ]
  },
  {
   "cell_type": "markdown",
   "metadata": {},
   "source": [
    "Посмотрим, что за данные мы получили"
   ]
  },
  {
   "cell_type": "code",
   "execution_count": 8,
   "metadata": {},
   "outputs": [
    {
     "data": {
      "text/html": [
       "<div>\n",
       "<style scoped>\n",
       "    .dataframe tbody tr th:only-of-type {\n",
       "        vertical-align: middle;\n",
       "    }\n",
       "\n",
       "    .dataframe tbody tr th {\n",
       "        vertical-align: top;\n",
       "    }\n",
       "\n",
       "    .dataframe thead th {\n",
       "        text-align: right;\n",
       "    }\n",
       "</style>\n",
       "<table border=\"1\" class=\"dataframe\">\n",
       "  <thead>\n",
       "    <tr style=\"text-align: right;\">\n",
       "      <th></th>\n",
       "      <th>name</th>\n",
       "      <th>price</th>\n",
       "      <th>brend</th>\n",
       "      <th>url</th>\n",
       "      <th>voltage</th>\n",
       "      <th>country</th>\n",
       "      <th>capacity</th>\n",
       "    </tr>\n",
       "  </thead>\n",
       "  <tbody>\n",
       "    <tr>\n",
       "      <th>0</th>\n",
       "      <td>Аккумулятор 12v 7ah акб agm 1207</td>\n",
       "      <td>None</td>\n",
       "      <td>SKAT</td>\n",
       "      <td>https://www.wildberries.ru/catalog/149737382/d...</td>\n",
       "      <td>12.00</td>\n",
       "      <td>Китай</td>\n",
       "      <td>7.00</td>\n",
       "    </tr>\n",
       "    <tr>\n",
       "      <th>1</th>\n",
       "      <td>Аккумулятор SF 1212, 12Ач, аккумуляторная бата...</td>\n",
       "      <td>None</td>\n",
       "      <td>Security Force</td>\n",
       "      <td>https://www.wildberries.ru/catalog/45502816/de...</td>\n",
       "      <td>12.00</td>\n",
       "      <td>Китай</td>\n",
       "      <td>12.00</td>\n",
       "    </tr>\n",
       "    <tr>\n",
       "      <th>2</th>\n",
       "      <td>Аккумулятор SF 1207, 7Ач, аккумуляторная батар...</td>\n",
       "      <td>None</td>\n",
       "      <td>Security Force</td>\n",
       "      <td>https://www.wildberries.ru/catalog/40724205/de...</td>\n",
       "      <td>12.00</td>\n",
       "      <td>Китай</td>\n",
       "      <td>7.00</td>\n",
       "    </tr>\n",
       "    <tr>\n",
       "      <th>3</th>\n",
       "      <td>Аккумулятор для ибп 12v 7 Ah F1/T1 осветительн...</td>\n",
       "      <td>None</td>\n",
       "      <td>Thomas</td>\n",
       "      <td>https://www.wildberries.ru/catalog/166716193/d...</td>\n",
       "      <td>12.00</td>\n",
       "      <td>Китай</td>\n",
       "      <td>7.00</td>\n",
       "    </tr>\n",
       "    <tr>\n",
       "      <th>4</th>\n",
       "      <td>Аккумулятор ибп 12v 7.5 Ah F2/T2 детской машин...</td>\n",
       "      <td>None</td>\n",
       "      <td>NPP</td>\n",
       "      <td>https://www.wildberries.ru/catalog/166716200/d...</td>\n",
       "      <td>12.00</td>\n",
       "      <td>Китай</td>\n",
       "      <td>7.50</td>\n",
       "    </tr>\n",
       "  </tbody>\n",
       "</table>\n",
       "</div>"
      ],
      "text/plain": [
       "                                                name price           brend  \\\n",
       "0                   Аккумулятор 12v 7ah акб agm 1207  None            SKAT   \n",
       "1  Аккумулятор SF 1212, 12Ач, аккумуляторная бата...  None  Security Force   \n",
       "2  Аккумулятор SF 1207, 7Ач, аккумуляторная батар...  None  Security Force   \n",
       "3  Аккумулятор для ибп 12v 7 Ah F1/T1 осветительн...  None          Thomas   \n",
       "4  Аккумулятор ибп 12v 7.5 Ah F2/T2 детской машин...  None             NPP   \n",
       "\n",
       "                                                 url  voltage country  \\\n",
       "0  https://www.wildberries.ru/catalog/149737382/d...    12.00   Китай   \n",
       "1  https://www.wildberries.ru/catalog/45502816/de...    12.00   Китай   \n",
       "2  https://www.wildberries.ru/catalog/40724205/de...    12.00   Китай   \n",
       "3  https://www.wildberries.ru/catalog/166716193/d...    12.00   Китай   \n",
       "4  https://www.wildberries.ru/catalog/166716200/d...    12.00   Китай   \n",
       "\n",
       "   capacity  \n",
       "0      7.00  \n",
       "1     12.00  \n",
       "2      7.00  \n",
       "3      7.00  \n",
       "4      7.50  "
      ]
     },
     "execution_count": 8,
     "metadata": {},
     "output_type": "execute_result"
    }
   ],
   "source": [
    "df = pd.DataFrame(acb_list)\n",
    "df.head()"
   ]
  },
  {
   "cell_type": "code",
   "execution_count": 9,
   "metadata": {},
   "outputs": [
    {
     "name": "stdout",
     "output_type": "stream",
     "text": [
      "<class 'pandas.core.frame.DataFrame'>\n",
      "RangeIndex: 317 entries, 0 to 316\n",
      "Data columns (total 7 columns):\n",
      " #   Column    Non-Null Count  Dtype  \n",
      "---  ------    --------------  -----  \n",
      " 0   name      317 non-null    object \n",
      " 1   price     0 non-null      object \n",
      " 2   brend     317 non-null    object \n",
      " 3   url       317 non-null    object \n",
      " 4   voltage   286 non-null    float64\n",
      " 5   country   295 non-null    object \n",
      " 6   capacity  289 non-null    float64\n",
      "dtypes: float64(2), object(5)\n",
      "memory usage: 17.5+ KB\n"
     ]
    }
   ],
   "source": [
    "df.info()"
   ]
  },
  {
   "cell_type": "markdown",
   "metadata": {},
   "source": [
    "Какие производители аккумуляторов для ИБП представлены на Wildberries"
   ]
  },
  {
   "cell_type": "code",
   "execution_count": 10,
   "metadata": {},
   "outputs": [
    {
     "data": {
      "text/plain": [
       "country\n",
       "Китай      276\n",
       "Вьетнам     16\n",
       "Тайвань      3\n",
       "Name: count, dtype: int64"
      ]
     },
     "execution_count": 10,
     "metadata": {},
     "output_type": "execute_result"
    }
   ],
   "source": [
    "data = df['country'].value_counts()\n",
    "names = data.index\n",
    "values = data.values\n",
    "data"
   ]
  },
  {
   "cell_type": "code",
   "execution_count": 11,
   "metadata": {},
   "outputs": [
    {
     "data": {
      "image/png": "[encoded data removed]",
      "text/plain": [
       "<Figure size 640x480 with 1 Axes>"
      ]
     },
     "metadata": {},
     "output_type": "display_data"
    }
   ],
   "source": [
    "plt.pie(values, autopct='%.1f%%', labels=names)\n",
    "plt.show()"
   ]
  },
  {
   "cell_type": "code",
   "execution_count": 12,
   "metadata": {},
   "outputs": [],
   "source": [
    "df.to_csv('df.csv')"
   ]
  }
 ],
 "metadata": {
  "kernelspec": {
   "display_name": "Python 3",
   "language": "python",
   "name": "python3"
  },
  "language_info": {
   "codemirror_mode": {
    "name": "ipython",
    "version": 3
   },
   "file_extension": ".py",
   "mimetype": "text/x-python",
   "name": "python",
   "nbconvert_exporter": "python",
   "pygments_lexer": "ipython3",
   "version": "3.8.10"
  }
 },
 "nbformat": 4,
 "nbformat_minor": 2
}
