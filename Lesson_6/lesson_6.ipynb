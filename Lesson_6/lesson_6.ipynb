{
  "cells": [
    {
      "cell_type": "code",
      "execution_count": 18,
      "metadata": {
        "id": "4IgnCZuOs4Fk"
      },
      "outputs": [],
      "source": [
        "from PIL import Image\n",
        "import numpy as np\n",
        "import matplotlib.pyplot as plt\n",
        "from skimage import io\n",
        "import os\n",
        "import tensorflow as tf"
      ]
    },
    {
      "cell_type": "code",
      "execution_count": 19,
      "metadata": {
        "id": "-9AAwHnPr7od"
      },
      "outputs": [],
      "source": [
        "import zipfile\n",
        "\n",
        "data_r = zipfile.ZipFile('train.zip', 'r')\n",
        "data_r.extractall()"
      ]
    },
    {
      "cell_type": "code",
      "execution_count": 20,
      "metadata": {
        "id": "QNsrrl6VsU_F"
      },
      "outputs": [],
      "source": [
        "data_r = zipfile.ZipFile('test.zip', 'r')\n",
        "data_r.extractall()"
      ]
    },
    {
      "cell_type": "code",
      "execution_count": 21,
      "metadata": {
        "id": "SISIsfkxs5l7"
      },
      "outputs": [],
      "source": [
        "def download_data(path):\n",
        "  data = []\n",
        "  for path_image in sorted(os.listdir(path=path)):\n",
        "    image = Image.open(path + path_image) #Открываем изображение.\n",
        "    data.append(np.array(image)) #Загружаем пиксели.\n",
        "  return data"
      ]
    },
    {
      "cell_type": "code",
      "execution_count": 22,
      "metadata": {
        "id": "aVma1xbgs2jF"
      },
      "outputs": [],
      "source": [
        "X_train = download_data(r\"train/images/\")\n",
        "Y_train = download_data(r\"train/masks/\")\n",
        "X_test = download_data(r\"test/images/\")\n",
        "Y_test = download_data(r\"test/masks/\")\n"
      ]
    },
    {
      "cell_type": "code",
      "execution_count": 23,
      "metadata": {
        "id": "X_ayb_KzU-sY"
      },
      "outputs": [],
      "source": [
        "def resize(input_image, input_mask):\n",
        "   input_image = tf.image.resize(input_image, (128, 128), method=\"nearest\")\n",
        "   input_mask = tf.image.resize(input_mask, (128, 128), method=\"nearest\")\n",
        "   return input_image, input_mask"
      ]
    },
    {
      "cell_type": "code",
      "execution_count": 24,
      "metadata": {
        "id": "K4OM3WxRVBCF"
      },
      "outputs": [],
      "source": [
        "X_train, Y_train = resize(X_train, Y_train)"
      ]
    },
    {
      "cell_type": "code",
      "execution_count": 25,
      "metadata": {
        "id": "X8Tl2Ee4VH9l"
      },
      "outputs": [],
      "source": [
        "X_test, Y_test = resize(X_test, Y_test)"
      ]
    },
    {
      "cell_type": "code",
      "execution_count": 26,
      "metadata": {
        "colab": {
          "base_uri": "https://localhost:8080/",
          "height": 683
        },
        "id": "5fOK8rmVt0ak",
        "outputId": "75649d54-0e0c-4e82-86e8-d3faa9f4cddb"
      },
      "outputs": [
        {
          "data": {
            "text/plain": [
              "<tf.Tensor: shape=(128, 128, 3), dtype=int32, numpy=\n",
              "array([[[238, 241, 246],\n",
              "        [185, 190, 196],\n",
              "        [249, 255, 255],\n",
              "        ...,\n",
              "        [178, 177, 185],\n",
              "        [220, 219, 225],\n",
              "        [235, 237, 250]],\n",
              "\n",
              "       [[254, 255, 255],\n",
              "        [252, 255, 255],\n",
              "        [250, 251, 253],\n",
              "        ...,\n",
              "        [213, 209, 223],\n",
              "        [199, 192, 199],\n",
              "        [152, 145, 152]],\n",
              "\n",
              "       [[194, 194, 196],\n",
              "        [239, 238, 243],\n",
              "        [253, 254, 255],\n",
              "        ...,\n",
              "        [ 96,  88, 101],\n",
              "        [157, 142, 149],\n",
              "        [148, 132, 133]],\n",
              "\n",
              "       ...,\n",
              "\n",
              "       [[213, 207, 217],\n",
              "        [238, 233, 239],\n",
              "        [211, 208, 219],\n",
              "        ...,\n",
              "        [247, 240, 234],\n",
              "        [218, 211, 203],\n",
              "        [241, 234, 224]],\n",
              "\n",
              "       [[231, 225, 235],\n",
              "        [166, 161, 167],\n",
              "        [211, 208, 219],\n",
              "        ...,\n",
              "        [255, 253, 250],\n",
              "        [237, 230, 222],\n",
              "        [223, 216, 208]],\n",
              "\n",
              "       [[246, 240, 250],\n",
              "        [198, 191, 198],\n",
              "        [199, 197, 208],\n",
              "        ...,\n",
              "        [240, 237, 230],\n",
              "        [249, 238, 232],\n",
              "        [255, 253, 243]]])>"
            ]
          },
          "execution_count": 26,
          "metadata": {},
          "output_type": "execute_result"
        }
      ],
      "source": [
        "X_train[0]"
      ]
    },
    {
      "cell_type": "code",
      "execution_count": 27,
      "metadata": {
        "colab": {
          "base_uri": "https://localhost:8080/"
        },
        "id": "LrG-ykmIuOcj",
        "outputId": "33c47cf2-ad24-4014-a890-d4b4184d77e4"
      },
      "outputs": [
        {
          "data": {
            "text/plain": [
              "7"
            ]
          },
          "execution_count": 27,
          "metadata": {},
          "output_type": "execute_result"
        }
      ],
      "source": [
        "len(Y_train)"
      ]
    },
    {
      "cell_type": "code",
      "execution_count": 28,
      "metadata": {
        "colab": {
          "base_uri": "https://localhost:8080/"
        },
        "id": "tCXQpzyZt6Ui",
        "outputId": "599cdd4b-b159-4092-a3ec-ed64958f4ae3"
      },
      "outputs": [
        {
          "data": {
            "text/plain": [
              "128"
            ]
          },
          "execution_count": 28,
          "metadata": {},
          "output_type": "execute_result"
        }
      ],
      "source": [
        "len(Y_train[0])"
      ]
    },
    {
      "cell_type": "code",
      "execution_count": 29,
      "metadata": {
        "colab": {
          "base_uri": "https://localhost:8080/"
        },
        "id": "UZcmg1WQuTIi",
        "outputId": "12985c79-0d80-422c-e911-f69be60e3bd9"
      },
      "outputs": [
        {
          "data": {
            "text/plain": [
              "128"
            ]
          },
          "execution_count": 29,
          "metadata": {},
          "output_type": "execute_result"
        }
      ],
      "source": [
        "len(Y_train[0][0])"
      ]
    },
    {
      "cell_type": "code",
      "execution_count": 30,
      "metadata": {
        "colab": {
          "base_uri": "https://localhost:8080/"
        },
        "id": "tI-7mKvJuixR",
        "outputId": "4105938f-2c23-4195-aa30-058272436cd9"
      },
      "outputs": [
        {
          "data": {
            "text/plain": [
              "<tf.Tensor: shape=(4,), dtype=int32, numpy=array([132,  41, 246, 255])>"
            ]
          },
          "execution_count": 30,
          "metadata": {},
          "output_type": "execute_result"
        }
      ],
      "source": [
        "Y_train[0][0][0]"
      ]
    },
    {
      "cell_type": "code",
      "execution_count": 31,
      "metadata": {
        "colab": {
          "base_uri": "https://localhost:8080/"
        },
        "id": "gMeBQA_suYnq",
        "outputId": "85185bf6-0107-426f-b3a6-8aaeb8ad71ce"
      },
      "outputs": [
        {
          "data": {
            "text/plain": [
              "4"
            ]
          },
          "execution_count": 31,
          "metadata": {},
          "output_type": "execute_result"
        }
      ],
      "source": [
        "len(Y_train[0][0][0])"
      ]
    },
    {
      "cell_type": "code",
      "execution_count": 32,
      "metadata": {
        "id": "KC2UWCMGuwz4"
      },
      "outputs": [],
      "source": [
        "palette = {0 : (60, 16, 152), # Building\n",
        "           1 : (132, 41, 246), # Land\n",
        "           2 : (110, 193, 228), # Road\n",
        "           3 : (254, 221, 58), # Vegetation\n",
        "           4 : (226, 169, 41), # Water\n",
        "           5 : (155, 155, 155)} # Unlabeled"
      ]
    },
    {
      "cell_type": "code",
      "execution_count": 33,
      "metadata": {
        "id": "XJGCusxYvIOi"
      },
      "outputs": [],
      "source": [
        "invert_palette = {v: k for k, v in palette.items()}"
      ]
    },
    {
      "cell_type": "code",
      "execution_count": 34,
      "metadata": {
        "id": "u2xjpP2VvUiY"
      },
      "outputs": [],
      "source": [
        "# сегментация нейронной сети в RGB изображение\n",
        "def convert_to_color(arr_2d, palette=palette):\n",
        "    \"\"\" Numeric labels to RGB-color encoding \"\"\"\n",
        "    arr_3d = np.zeros((arr_2d.shape[0], arr_2d.shape[1], 3), dtype=np.uint8)\n",
        "\n",
        "    for c, i in palette.items():\n",
        "        m = arr_2d == c\n",
        "        arr_3d[m] = i\n",
        "\n",
        "    return arr_3d"
      ]
    },
    {
      "cell_type": "code",
      "execution_count": 35,
      "metadata": {
        "id": "7uyEDYdTv81I"
      },
      "outputs": [],
      "source": [
        "def convert_from_color(arr_3d, palette=invert_palette):\n",
        "    \"\"\" RGB-color encoding to grayscale labels \"\"\"\n",
        "    arr_2d = np.zeros((arr_3d.shape[0], arr_3d.shape[1]), dtype=np.uint8)\n",
        "\n",
        "    arr_2d = np.zeros((arr_3d.shape[0], arr_3d.shape[1]), dtype=np.int8) # принадлежность каждого пикселя классу\n",
        "    min_distance = np.zeros((arr_3d.shape[0], arr_3d.shape[1]), dtype=np.float32)+1000 # расстояние до ближайшего класса для пикселей\n",
        "    for c, i in palette.items():\n",
        "      distance = np.sum((arr_3d - np.array(c).reshape(1, 1, 3))**2, axis=-1)**(1/2) # ищем расстояние для каждого пикселя до проверяемого класса по евклиду рас-ие\n",
        "      condition = min_distance > distance # поиск элементов меньше min_distance\n",
        "      min_distance[condition] = distance[condition] # замена дистанции найденных элементов\n",
        "      arr_2d[condition] = i # замена класса найденных элементов\n",
        "\n",
        "    for c, i in palette.items():\n",
        "      m = np.all(arr_3d == np.array(c).reshape(1, 1, 3), axis=2)\n",
        "      arr_2d[m] = i\n",
        "\n",
        "    arr_2d = arr_2d.tolist()\n",
        "    for i in range(len(arr_2d)):\n",
        "      for j in range(len(arr_2d[0])):\n",
        "        label = [0, 0, 0, 0, 0, 0]\n",
        "        label[arr_2d[i][j]] = 1\n",
        "        arr_2d[i][j] = label\n",
        "    arr_2d = np.array(arr_2d)\n",
        "\n",
        "    return arr_2d"
      ]
    },
    {
      "cell_type": "code",
      "execution_count": 36,
      "metadata": {
        "id": "QRH5wFPIxysn"
      },
      "outputs": [],
      "source": [
        "X_train_pred = np.array(X_train).reshape([7, 128, 128, 3])/255\n",
        "X_test_pred = np.array(X_test).reshape([2, 128, 128, 3])/255\n",
        "Y_train_pred = []\n",
        "for i in range(len(Y_train)):\n",
        "  Y_train_pred.append(convert_from_color(Y_train[i][:, :, :3]))\n",
        "Y_train_pred = np.array(Y_train_pred)\n",
        "Y_test_pred = []\n",
        "for i in range(len(Y_test)):\n",
        "  Y_test_pred.append(convert_from_color(Y_test[i][:, :, :3]))\n",
        "Y_test_pred = np.array(Y_test_pred)\n"
      ]
    },
    {
      "cell_type": "code",
      "execution_count": 37,
      "metadata": {
        "id": "S6xEqOpzyK4m"
      },
      "outputs": [],
      "source": [
        "import numpy as np\n",
        "from keras import *\n",
        "from keras.models import *\n",
        "from keras.layers import *\n",
        "from keras.optimizers import *"
      ]
    },
    {
      "cell_type": "code",
      "execution_count": 38,
      "metadata": {
        "id": "yw4chFWMT5JY"
      },
      "outputs": [],
      "source": [
        "def double_conv_block(x, n_filters):\n",
        "   # Conv2D then ReLU activation\n",
        "   x = layers.Conv2D(n_filters, 3, padding = \"same\", activation = \"relu\", kernel_initializer = \"he_normal\")(x)\n",
        "   # Conv2D then ReLU activation\n",
        "   x = layers.Conv2D(n_filters, 3, padding = \"same\", activation = \"relu\", kernel_initializer = \"he_normal\")(x)\n",
        "   return x"
      ]
    },
    {
      "cell_type": "code",
      "execution_count": 39,
      "metadata": {
        "id": "71aa1kS9UdpV"
      },
      "outputs": [],
      "source": [
        "def upsample_block(x, conv_features, n_filters):\n",
        "   # upsample\n",
        "   x = layers.Conv2DTranspose(n_filters, 3, 2, padding=\"same\")(x)\n",
        "   # concatenate\n",
        "   x = layers.concatenate([x, conv_features])\n",
        "   # dropout\n",
        "   x = layers.Dropout(0.3)(x)\n",
        "   # Conv2D twice with ReLU activation\n",
        "   x = double_conv_block(x, n_filters)\n",
        "   return x"
      ]
    },
    {
      "cell_type": "code",
      "execution_count": 40,
      "metadata": {
        "id": "6-0SlpZRT9JP"
      },
      "outputs": [],
      "source": [
        "def downsample_block(x, n_filters):\n",
        "   f = double_conv_block(x, n_filters)\n",
        "   p = layers.MaxPool2D(2)(f)\n",
        "   p = layers.Dropout(0.3)(p)\n",
        "   return f, p"
      ]
    },
    {
      "cell_type": "code",
      "execution_count": 41,
      "metadata": {
        "id": "FVTEl4lXUG_A"
      },
      "outputs": [],
      "source": [
        "def build_unet_model():\n",
        "   # inputs\n",
        "   inputs = layers.Input(shape=(128,128,3))\n",
        "   # encoder: contracting path - downsample\n",
        "   # 1 - downsample\n",
        "   f1, p1 = downsample_block(inputs, 64)\n",
        "   # 2 - downsample\n",
        "   f2, p2 = downsample_block(p1, 128)\n",
        "   # 3 - downsample\n",
        "   f3, p3 = downsample_block(p2, 256)\n",
        "   # 4 - downsample\n",
        "   f4, p4 = downsample_block(p3, 512)\n",
        "   # 5 - bottleneck\n",
        "   bottleneck = double_conv_block(p4, 1024)\n",
        "   # decoder: expanding path - upsample\n",
        "   # 6 - upsample\n",
        "   u6 = upsample_block(bottleneck, f4, 512)\n",
        "   # 7 - upsample\n",
        "   u7 = upsample_block(u6, f3, 256)\n",
        "   # 8 - upsample\n",
        "   u8 = upsample_block(u7, f2, 128)\n",
        "   # 9 - upsample\n",
        "   u9 = upsample_block(u8, f1, 64)\n",
        "   # outputs\n",
        "   outputs = layers.Conv2D(6, 1, padding=\"same\", activation = \"softmax\")(u9)\n",
        "   # unet model with Keras Functional API\n",
        "   unet_model = tf.keras.Model(inputs, outputs, name=\"U-Net\")\n",
        "   return unet_model"
      ]
    },
    {
      "cell_type": "code",
      "execution_count": 42,
      "metadata": {
        "id": "Z3otCMTXUVsr"
      },
      "outputs": [],
      "source": [
        "unet_model = build_unet_model()"
      ]
    },
    {
      "cell_type": "code",
      "execution_count": 43,
      "metadata": {
        "id": "bR8a8e6KVh86"
      },
      "outputs": [],
      "source": [
        "unet_model.compile(optimizer=tf.keras.optimizers.Adam(),\n",
        "                  loss=\"categorical_crossentropy\",\n",
        "                  metrics=\"accuracy\")"
      ]
    },
    {
      "cell_type": "code",
      "execution_count": 44,
      "metadata": {
        "colab": {
          "base_uri": "https://localhost:8080/"
        },
        "id": "GAuxCsFsVlyZ",
        "outputId": "0cf5ddd9-2c74-4dc0-fff2-dffd166aab5c"
      },
      "outputs": [
        {
          "name": "stdout",
          "output_type": "stream",
          "text": [
            "Epoch 1/10\n",
            "1/1 [==============================] - 11s 11s/step - loss: 2.5389 - accuracy: 0.0652 - val_loss: 1.1302 - val_accuracy: 0.6051\n",
            "Epoch 2/10\n",
            "1/1 [==============================] - 5s 5s/step - loss: 1.3060 - accuracy: 0.6264 - val_loss: 1.0865 - val_accuracy: 0.6051\n",
            "Epoch 3/10\n",
            "1/1 [==============================] - 5s 5s/step - loss: 1.1261 - accuracy: 0.6264 - val_loss: 1.0087 - val_accuracy: 0.6051\n",
            "Epoch 4/10\n",
            "1/1 [==============================] - 6s 6s/step - loss: 1.0646 - accuracy: 0.6269 - val_loss: 1.0063 - val_accuracy: 0.6051\n",
            "Epoch 5/10\n",
            "1/1 [==============================] - 5s 5s/step - loss: 1.0563 - accuracy: 0.6269 - val_loss: 1.0086 - val_accuracy: 0.6051\n",
            "Epoch 6/10\n",
            "1/1 [==============================] - 5s 5s/step - loss: 1.0395 - accuracy: 0.6283 - val_loss: 1.0052 - val_accuracy: 0.6055\n",
            "Epoch 7/10\n",
            "1/1 [==============================] - 5s 5s/step - loss: 1.0216 - accuracy: 0.6319 - val_loss: 1.0160 - val_accuracy: 0.6055\n",
            "Epoch 8/10\n",
            "1/1 [==============================] - 6s 6s/step - loss: 1.0045 - accuracy: 0.6350 - val_loss: 1.0308 - val_accuracy: 0.6053\n",
            "Epoch 9/10\n",
            "1/1 [==============================] - 5s 5s/step - loss: 0.9956 - accuracy: 0.6344 - val_loss: 1.0366 - val_accuracy: 0.6054\n",
            "Epoch 10/10\n",
            "1/1 [==============================] - 5s 5s/step - loss: 0.9866 - accuracy: 0.6365 - val_loss: 1.0172 - val_accuracy: 0.6074\n",
            "CPU times: total: 5min 39s\n",
            "Wall time: 59 s\n"
          ]
        }
      ],
      "source": [
        "%%time\n",
        "\n",
        "history = unet_model.fit(X_train_pred, Y_train_pred,  epochs=10, validation_data = (X_test_pred, Y_test_pred))"
      ]
    },
    {
      "cell_type": "code",
      "execution_count": 50,
      "metadata": {},
      "outputs": [
        {
          "name": "stdout",
          "output_type": "stream",
          "text": [
            "2/2 [==============================] - 1s 140ms/step\n"
          ]
        }
      ],
      "source": [
        "out = unet_model.predict(X_test_pred[:2], batch_size=1)"
      ]
    },
    {
      "cell_type": "code",
      "execution_count": 51,
      "metadata": {},
      "outputs": [
        {
          "data": {
            "image/png": "[encoded data removed]",
            "text/plain": [
              "<Figure size 640x480 with 2 Axes>"
            ]
          },
          "metadata": {},
          "output_type": "display_data"
        },
        {
          "data": {
            "image/png": "[encoded data removed]",
            "text/plain": [
              "<Figure size 640x480 with 2 Axes>"
            ]
          },
          "metadata": {},
          "output_type": "display_data"
        }
      ],
      "source": [
        "for i in range(2):\n",
        "    plt.subplot(1, 2, i+1)\n",
        "    plt.imshow(convert_to_color(np.argmax(Y_test_pred[i], axis=-1)))\n",
        "plt.suptitle('Желаемый результат сегментации', fontsize=19, fontweight='bold')\n",
        "plt.tight_layout()\n",
        "plt.show()\n",
        "\n",
        "# Выведем 2-е картинки полученые методом predict\n",
        "for i in range(2):\n",
        "    plt.subplot(1, 2, i+1)\n",
        "    plt.imshow(convert_to_color(np.argmax(out[i], axis=-1)))\n",
        "plt.suptitle('Полученный результат сегментации', fontsize=19, fontweight='bold')\n",
        "plt.tight_layout()\n",
        "plt.show()"
      ]
    }
  ],
  "metadata": {
    "colab": {
      "provenance": []
    },
    "kernelspec": {
      "display_name": "Python 3",
      "name": "python3"
    },
    "language_info": {
      "codemirror_mode": {
        "name": "ipython",
        "version": 3
      },
      "file_extension": ".py",
      "mimetype": "text/x-python",
      "name": "python",
      "nbconvert_exporter": "python",
      "pygments_lexer": "ipython3",
      "version": "3.8.10"
    }
  },
  "nbformat": 4,
  "nbformat_minor": 0
}
