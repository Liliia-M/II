{
 "cells": [
  {
   "cell_type": "markdown",
   "id": "e0b1d0e1",
   "metadata": {
    "id": "8K53meqQL0TI",
    "papermill": {
     "duration": 0.01841,
     "end_time": "2023-12-27T07:58:14.533248",
     "exception": false,
     "start_time": "2023-12-27T07:58:14.514838",
     "status": "completed"
    },
    "tags": []
   },
   "source": [
    "Сталь – один из важнейших строительных материалов современности. Стальные здания устойчивы к естественному и искусственному износу, что сделало этот материал повсеместно распространенным во всем мире. Чтобы сделать производство стали более эффективным, этот конкурс поможет выявить дефекты.\n"
   ]
  },
  {
   "cell_type": "markdown",
   "id": "3d1eb1ad",
   "metadata": {
    "papermill": {
     "duration": 0.017559,
     "end_time": "2023-12-27T07:58:14.568850",
     "exception": false,
     "start_time": "2023-12-27T07:58:14.551291",
     "status": "completed"
    },
    "tags": []
   },
   "source": [
    "ссылка на каггл с этим соревнованием - https://www.kaggle.com/c/severstal-steel-defect-detection"
   ]
  },
  {
   "cell_type": "markdown",
   "id": "f5586340",
   "metadata": {
    "id": "ZCZFJVqHL3Q2",
    "papermill": {
     "duration": 0.017444,
     "end_time": "2023-12-27T07:58:14.604291",
     "exception": false,
     "start_time": "2023-12-27T07:58:14.586847",
     "status": "completed"
    },
    "tags": []
   },
   "source": [
    "### Постановка задачи :\n",
    "\n",
    "Этот конкурс представляет собой двойной конкурс: классифицируйте тип дефекта стали, а также сегментируйте части изображения, содержащие дефект.\n",
    "\n"
   ]
  },
  {
   "cell_type": "code",
   "execution_count": null,
   "id": "b184991a",
   "metadata": {
    "execution": {
     "iopub.execute_input": "2023-12-27T07:58:14.642850Z",
     "iopub.status.busy": "2023-12-27T07:58:14.641724Z",
     "iopub.status.idle": "2023-12-27T07:58:31.920360Z",
     "shell.execute_reply": "2023-12-27T07:58:31.919223Z"
    },
    "id": "NF2PwFQaLv1b",
    "papermill": {
     "duration": 17.30131,
     "end_time": "2023-12-27T07:58:31.923478",
     "exception": false,
     "start_time": "2023-12-27T07:58:14.622168",
     "status": "completed"
    },
    "tags": []
   },
   "outputs": [],
   "source": [
    "import pandas as pd\n",
    "import numpy as np\n",
    "import matplotlib.pyplot as plt\n",
    "import seaborn as sns\n",
    "import warnings\n",
    "import keras\n",
    "from sklearn.model_selection import train_test_split\n",
    "from tqdm import tqdm\n",
    "from sklearn.preprocessing import OneHotEncoder,LabelEncoder\n",
    "from keras.utils import to_categorical\n",
    "from keras.models import Sequential\n",
    "import tensorflow as tf\n",
    "from keras.layers import Dense,Conv2D,Flatten,MaxPooling2D,Dropout\n",
    "from keras.callbacks import EarlyStopping\n",
    "import cv2\n",
    "from imblearn.over_sampling import RandomOverSampler\n"
   ]
  },
  {
   "cell_type": "code",
   "execution_count": null,
   "id": "e6d46e8f",
   "metadata": {
    "execution": {
     "iopub.execute_input": "2023-12-27T07:58:31.963962Z",
     "iopub.status.busy": "2023-12-27T07:58:31.963114Z",
     "iopub.status.idle": "2023-12-27T07:58:32.499722Z",
     "shell.execute_reply": "2023-12-27T07:58:32.498482Z"
    },
    "id": "f6_gJB7lLv1e",
    "papermill": {
     "duration": 0.560456,
     "end_time": "2023-12-27T07:58:32.502818",
     "exception": false,
     "start_time": "2023-12-27T07:58:31.942362",
     "status": "completed"
    },
    "tags": []
   },
   "outputs": [],
   "source": [
    "data = pd.read_csv(\"train.csv\")"
   ]
  },
  {
   "cell_type": "code",
   "execution_count": null,
   "id": "95c02989",
   "metadata": {
    "execution": {
     "iopub.execute_input": "2023-12-27T07:58:32.542114Z",
     "iopub.status.busy": "2023-12-27T07:58:32.541680Z",
     "iopub.status.idle": "2023-12-27T07:58:32.573679Z",
     "shell.execute_reply": "2023-12-27T07:58:32.572370Z"
    },
    "id": "93xesbieLv1f",
    "outputId": "932c1475-b139-403e-8583-0eb5220f7c38",
    "papermill": {
     "duration": 0.055127,
     "end_time": "2023-12-27T07:58:32.576490",
     "exception": false,
     "start_time": "2023-12-27T07:58:32.521363",
     "status": "completed"
    },
    "tags": []
   },
   "outputs": [],
   "source": [
    "data"
   ]
  },
  {
   "cell_type": "code",
   "execution_count": null,
   "id": "f39b0a66",
   "metadata": {
    "execution": {
     "iopub.execute_input": "2023-12-27T07:58:32.616794Z",
     "iopub.status.busy": "2023-12-27T07:58:32.616340Z",
     "iopub.status.idle": "2023-12-27T07:58:32.623942Z",
     "shell.execute_reply": "2023-12-27T07:58:32.622794Z"
    },
    "id": "Mo8UPrh6Lv1h",
    "outputId": "2018c6b7-c974-4363-d3fb-a83eb0a20f59",
    "papermill": {
     "duration": 0.031501,
     "end_time": "2023-12-27T07:58:32.626691",
     "exception": false,
     "start_time": "2023-12-27T07:58:32.595190",
     "status": "completed"
    },
    "tags": []
   },
   "outputs": [],
   "source": [
    "data.shape"
   ]
  },
  {
   "cell_type": "markdown",
   "id": "f7f7af73",
   "metadata": {
    "id": "5wI4ul4BLv1j",
    "papermill": {
     "duration": 0.018928,
     "end_time": "2023-12-27T07:58:32.664844",
     "exception": false,
     "start_time": "2023-12-27T07:58:32.645916",
     "status": "completed"
    },
    "tags": []
   },
   "source": [
    "У нас 7095 и три фичи"
   ]
  },
  {
   "cell_type": "markdown",
   "id": "75f32651",
   "metadata": {
    "papermill": {
     "duration": 0.018225,
     "end_time": "2023-12-27T07:58:32.702265",
     "exception": false,
     "start_time": "2023-12-27T07:58:32.684040",
     "status": "completed"
    },
    "tags": []
   },
   "source": [
    "# Разведочный анализ данных"
   ]
  },
  {
   "cell_type": "code",
   "execution_count": null,
   "id": "3fff6247",
   "metadata": {
    "execution": {
     "iopub.execute_input": "2023-12-27T07:58:32.741246Z",
     "iopub.status.busy": "2023-12-27T07:58:32.740796Z",
     "iopub.status.idle": "2023-12-27T07:58:33.057012Z",
     "shell.execute_reply": "2023-12-27T07:58:33.055641Z"
    },
    "id": "QSbpi28xLv1l",
    "outputId": "7ccf3e9f-b39e-4fe0-c120-8823eb26597a",
    "papermill": {
     "duration": 0.338863,
     "end_time": "2023-12-27T07:58:33.059660",
     "exception": false,
     "start_time": "2023-12-27T07:58:32.720797",
     "status": "completed"
    },
    "tags": []
   },
   "outputs": [],
   "source": [
    "data[\"ClassId\"].value_counts().plot(kind = 'bar')\n",
    "data[\"ClassId\"].value_counts()"
   ]
  },
  {
   "cell_type": "markdown",
   "id": "3fd99fbf",
   "metadata": {
    "id": "kGEmOxjCLv1m",
    "papermill": {
     "duration": 0.020298,
     "end_time": "2023-12-27T07:58:33.100233",
     "exception": false,
     "start_time": "2023-12-27T07:58:33.079935",
     "status": "completed"
    },
    "tags": []
   },
   "source": [
    "больше всего меток третьего класса"
   ]
  },
  {
   "cell_type": "markdown",
   "id": "a421804b",
   "metadata": {
    "id": "PF-J1EspLv1o",
    "papermill": {
     "duration": 0.018802,
     "end_time": "2023-12-27T07:58:33.209247",
     "exception": false,
     "start_time": "2023-12-27T07:58:33.190445",
     "status": "completed"
    },
    "tags": []
   },
   "source": [
    "Перекос данных, поэтому выполним аугментацию."
   ]
  },
  {
   "cell_type": "code",
   "execution_count": null,
   "metadata": {},
   "outputs": [],
   "source": [
    "l1=[]\n",
    "l2=[]\n",
    "for img,ClassId,EncodedPixels in tqdm(data.values):\n",
    "    image=cv2.imread(\"train_images/{}\".format(img),cv2.IMREAD_COLOR)\n",
    "    image=cv2.resize(image,dsize=(10, 10), interpolation = cv2.INTER_AREA)\n",
    "    l1.append(image)\n",
    "    l2.append(ClassId)"
   ]
  },
  {
   "cell_type": "markdown",
   "id": "df14915d",
   "metadata": {
    "id": "cgDiyQHhLv1q",
    "papermill": {
     "duration": 0.132188,
     "end_time": "2023-12-27T08:00:57.319307",
     "exception": false,
     "start_time": "2023-12-27T08:00:57.187119",
     "status": "completed"
    },
    "tags": []
   },
   "source": [
    "Проверка изображений случайной стали, чтобы проверить, дефектна ли она или нет."
   ]
  },
  {
   "cell_type": "code",
   "execution_count": null,
   "id": "5ff4bb36",
   "metadata": {
    "execution": {
     "iopub.execute_input": "2023-12-27T08:00:57.585112Z",
     "iopub.status.busy": "2023-12-27T08:00:57.584165Z",
     "iopub.status.idle": "2023-12-27T08:00:57.881532Z",
     "shell.execute_reply": "2023-12-27T08:00:57.879769Z"
    },
    "id": "kej5Q0HGLv1q",
    "outputId": "80487463-2728-4f04-ad4c-661fa7f91cb7",
    "papermill": {
     "duration": 0.43324,
     "end_time": "2023-12-27T08:00:57.884590",
     "exception": false,
     "start_time": "2023-12-27T08:00:57.451350",
     "status": "completed"
    },
    "tags": []
   },
   "outputs": [],
   "source": [
    "i = 15\n",
    "plt.imshow(l1[i])"
   ]
  },
  {
   "cell_type": "code",
   "execution_count": null,
   "id": "9c338730",
   "metadata": {
    "execution": {
     "iopub.execute_input": "2023-12-27T08:00:58.157772Z",
     "iopub.status.busy": "2023-12-27T08:00:58.157022Z",
     "iopub.status.idle": "2023-12-27T08:00:58.449520Z",
     "shell.execute_reply": "2023-12-27T08:00:58.448051Z"
    },
    "id": "Nk9YmF4-Lv1r",
    "outputId": "fb59bc1d-2fbe-43af-8a23-ba9925d526db",
    "papermill": {
     "duration": 0.431639,
     "end_time": "2023-12-27T08:00:58.452414",
     "exception": false,
     "start_time": "2023-12-27T08:00:58.020775",
     "status": "completed"
    },
    "tags": []
   },
   "outputs": [],
   "source": [
    "i = 16\n",
    "plt.imshow(l1[i])"
   ]
  },
  {
   "cell_type": "code",
   "execution_count": null,
   "id": "45823572",
   "metadata": {
    "execution": {
     "iopub.execute_input": "2023-12-27T08:00:58.730080Z",
     "iopub.status.busy": "2023-12-27T08:00:58.729639Z",
     "iopub.status.idle": "2023-12-27T08:00:59.042311Z",
     "shell.execute_reply": "2023-12-27T08:00:59.040805Z"
    },
    "id": "hxx8f-TZLv1s",
    "outputId": "a78a57bd-abe1-44f4-bb61-a68752d42789",
    "papermill": {
     "duration": 0.451892,
     "end_time": "2023-12-27T08:00:59.045280",
     "exception": false,
     "start_time": "2023-12-27T08:00:58.593388",
     "status": "completed"
    },
    "tags": []
   },
   "outputs": [],
   "source": [
    "i = 90\n",
    "plt.imshow(l1[i])"
   ]
  },
  {
   "cell_type": "markdown",
   "id": "a6f435aa",
   "metadata": {
    "id": "TLQyA0yfLv1s",
    "papermill": {
     "duration": 0.136756,
     "end_time": "2023-12-27T08:00:59.323882",
     "exception": false,
     "start_time": "2023-12-27T08:00:59.187126",
     "status": "completed"
    },
    "tags": []
   },
   "source": [
    "Выполним one-hot кодировку"
   ]
  },
  {
   "cell_type": "code",
   "execution_count": null,
   "id": "81f124da",
   "metadata": {
    "execution": {
     "iopub.execute_input": "2023-12-27T08:00:59.599601Z",
     "iopub.status.busy": "2023-12-27T08:00:59.599181Z",
     "iopub.status.idle": "2023-12-27T08:01:00.890780Z",
     "shell.execute_reply": "2023-12-27T08:01:00.889348Z"
    },
    "id": "YYv3SZPXLv1s",
    "papermill": {
     "duration": 1.43355,
     "end_time": "2023-12-27T08:01:00.894914",
     "exception": false,
     "start_time": "2023-12-27T08:00:59.461364",
     "status": "completed"
    },
    "tags": []
   },
   "outputs": [],
   "source": [
    "encoder = LabelEncoder()\n",
    "\n",
    "X= np.array(l1)\n",
    "X = X/255\n",
    "\n",
    "y = encoder.fit_transform(l2)\n",
    "y = np.array(y)\n"
   ]
  },
  {
   "cell_type": "code",
   "execution_count": null,
   "id": "93b1d0a5",
   "metadata": {
    "execution": {
     "iopub.execute_input": "2023-12-27T08:01:01.169527Z",
     "iopub.status.busy": "2023-12-27T08:01:01.169035Z",
     "iopub.status.idle": "2023-12-27T08:01:01.177267Z",
     "shell.execute_reply": "2023-12-27T08:01:01.175761Z"
    },
    "id": "IydI10AkLv1t",
    "outputId": "34632777-09de-4dc4-d33d-607c6978c49f",
    "papermill": {
     "duration": 0.14769,
     "end_time": "2023-12-27T08:01:01.180002",
     "exception": false,
     "start_time": "2023-12-27T08:01:01.032312",
     "status": "completed"
    },
    "tags": []
   },
   "outputs": [],
   "source": [
    "X.shape"
   ]
  },
  {
   "cell_type": "code",
   "execution_count": null,
   "id": "98c090df",
   "metadata": {
    "execution": {
     "iopub.execute_input": "2023-12-27T08:01:01.461353Z",
     "iopub.status.busy": "2023-12-27T08:01:01.460595Z",
     "iopub.status.idle": "2023-12-27T08:01:01.466671Z",
     "shell.execute_reply": "2023-12-27T08:01:01.465747Z"
    },
    "id": "eHbm8H4gLv1t",
    "outputId": "1915430a-292a-46d7-f34e-60313746dc54",
    "papermill": {
     "duration": 0.150333,
     "end_time": "2023-12-27T08:01:01.469359",
     "exception": false,
     "start_time": "2023-12-27T08:01:01.319026",
     "status": "completed"
    },
    "tags": []
   },
   "outputs": [],
   "source": [
    "y.shape"
   ]
  },
  {
   "cell_type": "markdown",
   "id": "1a0b3372",
   "metadata": {
    "papermill": {
     "duration": 0.136272,
     "end_time": "2023-12-27T08:01:01.744432",
     "exception": false,
     "start_time": "2023-12-27T08:01:01.608160",
     "status": "completed"
    },
    "tags": []
   },
   "source": [
    "# Борьба с дибалансом"
   ]
  },
  {
   "cell_type": "markdown",
   "id": "769105bb",
   "metadata": {
    "id": "lNcC3JtfN2Vd",
    "papermill": {
     "duration": 0.14797,
     "end_time": "2023-12-27T08:01:02.036069",
     "exception": false,
     "start_time": "2023-12-27T08:01:01.888099",
     "status": "completed"
    },
    "tags": []
   },
   "source": [
    "для борьбы с дисбалансом выполним случайное сэмплирование"
   ]
  },
  {
   "cell_type": "code",
   "execution_count": null,
   "id": "4f7abc9c",
   "metadata": {
    "execution": {
     "iopub.execute_input": "2023-12-27T08:01:02.319207Z",
     "iopub.status.busy": "2023-12-27T08:01:02.318230Z",
     "iopub.status.idle": "2023-12-27T08:01:09.767551Z",
     "shell.execute_reply": "2023-12-27T08:01:09.766207Z"
    },
    "id": "KLqv-h3ALv1t",
    "papermill": {
     "duration": 7.594365,
     "end_time": "2023-12-27T08:01:09.770811",
     "exception": false,
     "start_time": "2023-12-27T08:01:02.176446",
     "status": "completed"
    },
    "tags": []
   },
   "outputs": [],
   "source": [
    "from imblearn.over_sampling import RandomOverSampler\n",
    "reshaped_X = X.reshape(X.shape[0],-1)\n",
    "oversample = RandomOverSampler(sampling_strategy='not majority')\n",
    "X, y  = oversample.fit_resample(reshaped_X , y)\n",
    "X = X.reshape(-1,120,120,3)"
   ]
  },
  {
   "cell_type": "code",
   "execution_count": null,
   "id": "5dba4964",
   "metadata": {
    "execution": {
     "iopub.execute_input": "2023-12-27T08:01:10.047048Z",
     "iopub.status.busy": "2023-12-27T08:01:10.046130Z",
     "iopub.status.idle": "2023-12-27T08:01:10.053975Z",
     "shell.execute_reply": "2023-12-27T08:01:10.052815Z"
    },
    "id": "zkXMHPqJLv1t",
    "papermill": {
     "duration": 0.148206,
     "end_time": "2023-12-27T08:01:10.056220",
     "exception": false,
     "start_time": "2023-12-27T08:01:09.908014",
     "status": "completed"
    },
    "tags": []
   },
   "outputs": [],
   "source": [
    "X.shape"
   ]
  },
  {
   "cell_type": "code",
   "execution_count": null,
   "id": "82f990f1",
   "metadata": {
    "execution": {
     "iopub.execute_input": "2023-12-27T08:01:10.341950Z",
     "iopub.status.busy": "2023-12-27T08:01:10.341061Z",
     "iopub.status.idle": "2023-12-27T08:01:10.347346Z",
     "shell.execute_reply": "2023-12-27T08:01:10.346187Z"
    },
    "id": "rKAdvBQuLv1u",
    "papermill": {
     "duration": 0.155158,
     "end_time": "2023-12-27T08:01:10.352293",
     "exception": false,
     "start_time": "2023-12-27T08:01:10.197135",
     "status": "completed"
    },
    "tags": []
   },
   "outputs": [],
   "source": [
    "\n",
    "y = to_categorical(y)"
   ]
  },
  {
   "cell_type": "code",
   "execution_count": null,
   "id": "b9b77751",
   "metadata": {
    "execution": {
     "iopub.execute_input": "2023-12-27T08:01:10.639215Z",
     "iopub.status.busy": "2023-12-27T08:01:10.638332Z",
     "iopub.status.idle": "2023-12-27T08:01:10.646593Z",
     "shell.execute_reply": "2023-12-27T08:01:10.645358Z"
    },
    "id": "rQEIQ9u3Lv1u",
    "papermill": {
     "duration": 0.14752,
     "end_time": "2023-12-27T08:01:10.649122",
     "exception": false,
     "start_time": "2023-12-27T08:01:10.501602",
     "status": "completed"
    },
    "tags": []
   },
   "outputs": [],
   "source": [
    "y"
   ]
  },
  {
   "cell_type": "markdown",
   "id": "c94d3a08",
   "metadata": {
    "id": "BXstLfLoLv1u",
    "papermill": {
     "duration": 0.134311,
     "end_time": "2023-12-27T08:01:10.918364",
     "exception": false,
     "start_time": "2023-12-27T08:01:10.784053",
     "status": "completed"
    },
    "tags": []
   },
   "source": [
    "разделим на тренировку и валидацию"
   ]
  },
  {
   "cell_type": "code",
   "execution_count": null,
   "id": "5bbbf275",
   "metadata": {
    "execution": {
     "iopub.execute_input": "2023-12-27T08:01:11.189911Z",
     "iopub.status.busy": "2023-12-27T08:01:11.189280Z",
     "iopub.status.idle": "2023-12-27T08:01:13.706235Z",
     "shell.execute_reply": "2023-12-27T08:01:13.705019Z"
    },
    "id": "MbSPyrmMLv1u",
    "papermill": {
     "duration": 2.656345,
     "end_time": "2023-12-27T08:01:13.709223",
     "exception": false,
     "start_time": "2023-12-27T08:01:11.052878",
     "status": "completed"
    },
    "tags": []
   },
   "outputs": [],
   "source": [
    "X_train,X_test,y_train,y_test=train_test_split(X,y,test_size=0.2,stratify=y,shuffle=True)"
   ]
  },
  {
   "cell_type": "code",
   "execution_count": null,
   "id": "31d03f4b",
   "metadata": {
    "execution": {
     "iopub.execute_input": "2023-12-27T08:01:13.986248Z",
     "iopub.status.busy": "2023-12-27T08:01:13.985218Z",
     "iopub.status.idle": "2023-12-27T08:01:13.994360Z",
     "shell.execute_reply": "2023-12-27T08:01:13.992865Z"
    },
    "id": "OIexO_InLv1u",
    "papermill": {
     "duration": 0.150417,
     "end_time": "2023-12-27T08:01:13.997024",
     "exception": false,
     "start_time": "2023-12-27T08:01:13.846607",
     "status": "completed"
    },
    "tags": []
   },
   "outputs": [],
   "source": [
    "print(\"x_train размер:\",X_train.shape)\n",
    "print(\"x_test размер:\",X_test.shape)\n",
    "print(\"y_train размер:\",y_train.shape)\n",
    "print(\"y_test размер:\",y_test.shape)"
   ]
  },
  {
   "cell_type": "markdown",
   "id": "1eed9bc2",
   "metadata": {},
   "source": [
    "Создаём callback EarlyStopping (защита от переобучения)"
   ]
  },
  {
   "cell_type": "code",
   "execution_count": null,
   "id": "d7a82143",
   "metadata": {},
   "outputs": [],
   "source": [
    "erly_stoping_callback = EarlyStopping(monitor='val_accuracy', patience=2) "
   ]
  },
  {
   "cell_type": "code",
   "execution_count": null,
   "id": "979e3df1",
   "metadata": {},
   "outputs": [],
   "source": [
    "EPOCH = 25                                 \n",
    "BATCH_SIZE = 128 "
   ]
  },
  {
   "cell_type": "markdown",
   "id": "ffbc28a1",
   "metadata": {
    "papermill": {
     "duration": 0.136133,
     "end_time": "2023-12-27T08:01:14.269545",
     "exception": false,
     "start_time": "2023-12-27T08:01:14.133412",
     "status": "completed"
    },
    "tags": []
   },
   "source": [
    "# Построение нейронной сети  в 3 слоя и график обучения"
   ]
  },
  {
   "cell_type": "code",
   "execution_count": null,
   "id": "18324b25",
   "metadata": {
    "execution": {
     "iopub.execute_input": "2023-12-27T08:01:14.554647Z",
     "iopub.status.busy": "2023-12-27T08:01:14.553689Z",
     "iopub.status.idle": "2023-12-27T08:01:14.778415Z",
     "shell.execute_reply": "2023-12-27T08:01:14.777165Z"
    },
    "papermill": {
     "duration": 0.370854,
     "end_time": "2023-12-27T08:01:14.781588",
     "exception": false,
     "start_time": "2023-12-27T08:01:14.410734",
     "status": "completed"
    },
    "tags": []
   },
   "outputs": [],
   "source": [
    "model=Sequential()\n",
    "model.add(Conv2D(32,(3,3),input_shape=(120,120,3),activation=\"relu\"))\n",
    "model.add(Flatten())\n",
    "model.add(Dense(4,activation=\"softmax\"))"
   ]
  },
  {
   "cell_type": "code",
   "execution_count": null,
   "id": "23f55887",
   "metadata": {
    "execution": {
     "iopub.execute_input": "2023-12-27T08:01:15.065695Z",
     "iopub.status.busy": "2023-12-27T08:01:15.064910Z",
     "iopub.status.idle": "2023-12-27T08:01:15.088258Z",
     "shell.execute_reply": "2023-12-27T08:01:15.086840Z"
    },
    "papermill": {
     "duration": 0.167666,
     "end_time": "2023-12-27T08:01:15.091483",
     "exception": false,
     "start_time": "2023-12-27T08:01:14.923817",
     "status": "completed"
    },
    "tags": []
   },
   "outputs": [],
   "source": [
    "model.compile(loss=keras.losses.categorical_crossentropy,\n",
    "             optimizer=keras.optimizers.Adam(),\n",
    "             metrics=[\"accuracy\"])"
   ]
  },
  {
   "cell_type": "code",
   "execution_count": null,
   "id": "420d064c",
   "metadata": {
    "execution": {
     "iopub.execute_input": "2023-12-27T08:01:15.373333Z",
     "iopub.status.busy": "2023-12-27T08:01:15.372864Z",
     "iopub.status.idle": "2023-12-27T08:15:45.670071Z",
     "shell.execute_reply": "2023-12-27T08:15:45.667569Z"
    },
    "papermill": {
     "duration": 870.443272,
     "end_time": "2023-12-27T08:15:45.674143",
     "exception": false,
     "start_time": "2023-12-27T08:01:15.230871",
     "status": "completed"
    },
    "tags": []
   },
   "outputs": [],
   "source": [
    "history = model.fit(X_train,y_train,epochs=10,validation_data=(X_test,y_test),batch_size=128,\n",
    "                    verbose=1)"
   ]
  },
  {
   "cell_type": "code",
   "execution_count": null,
   "id": "3ce4a90a",
   "metadata": {
    "execution": {
     "iopub.execute_input": "2023-12-27T08:15:46.204363Z",
     "iopub.status.busy": "2023-12-27T08:15:46.203842Z",
     "iopub.status.idle": "2023-12-27T08:15:46.631199Z",
     "shell.execute_reply": "2023-12-27T08:15:46.630066Z"
    },
    "papermill": {
     "duration": 0.695446,
     "end_time": "2023-12-27T08:15:46.633889",
     "exception": false,
     "start_time": "2023-12-27T08:15:45.938443",
     "status": "completed"
    },
    "tags": []
   },
   "outputs": [],
   "source": [
    "history_df = pd.DataFrame(history.history)\n",
    "history_df.loc[:, ['loss', 'val_loss']].plot(title = 'Loss curve')"
   ]
  },
  {
   "cell_type": "code",
   "execution_count": null,
   "id": "556c363e",
   "metadata": {
    "execution": {
     "iopub.execute_input": "2023-12-27T08:15:47.168712Z",
     "iopub.status.busy": "2023-12-27T08:15:47.167859Z",
     "iopub.status.idle": "2023-12-27T08:15:47.557349Z",
     "shell.execute_reply": "2023-12-27T08:15:47.556066Z"
    },
    "papermill": {
     "duration": 0.659639,
     "end_time": "2023-12-27T08:15:47.560266",
     "exception": false,
     "start_time": "2023-12-27T08:15:46.900627",
     "status": "completed"
    },
    "tags": []
   },
   "outputs": [],
   "source": [
    "history_df = pd.DataFrame(history.history)\n",
    "history_df.loc[:, ['accuracy', 'val_accuracy']].plot(title = 'Accuracy curve')"
   ]
  },
  {
   "cell_type": "markdown",
   "id": "e266e22a",
   "metadata": {
    "papermill": {
     "duration": null,
     "end_time": null,
     "exception": null,
     "start_time": null,
     "status": "pending"
    },
    "tags": []
   },
   "source": [
    "# Построение нейронной сети  в 5 слоев"
   ]
  },
  {
   "cell_type": "code",
   "execution_count": null,
   "id": "946d3feb",
   "metadata": {
    "papermill": {
     "duration": null,
     "end_time": null,
     "exception": null,
     "start_time": null,
     "status": "pending"
    },
    "tags": []
   },
   "outputs": [],
   "source": [
    "model=Sequential()\n",
    "model.add(Conv2D(32,(3,3),input_shape=(120,120,3),activation=\"relu\"))\n",
    "model.add(MaxPooling2D(pool_size=(3,3)))\n",
    "model.add(Flatten())\n",
    "model.add(Dense(256,activation=\"relu\"))\n",
    "model.add(Dense(4,activation=\"softmax\"))\n"
   ]
  },
  {
   "cell_type": "code",
   "execution_count": null,
   "id": "cd2a719d",
   "metadata": {
    "papermill": {
     "duration": null,
     "end_time": null,
     "exception": null,
     "start_time": null,
     "status": "pending"
    },
    "tags": []
   },
   "outputs": [],
   "source": [
    "model.compile(loss=keras.losses.categorical_crossentropy,\n",
    "             optimizer=keras.optimizers.Adam(),\n",
    "             metrics=[\"accuracy\"])"
   ]
  },
  {
   "cell_type": "code",
   "execution_count": null,
   "id": "86b8280e",
   "metadata": {
    "papermill": {
     "duration": null,
     "end_time": null,
     "exception": null,
     "start_time": null,
     "status": "pending"
    },
    "tags": []
   },
   "outputs": [],
   "source": [
    "history = model.fit(X_train,y_train,epochs=10,validation_data=(X_test,y_test),batch_size=128,\n",
    "                    verbose=1)"
   ]
  },
  {
   "cell_type": "code",
   "execution_count": null,
   "id": "5eff68bc",
   "metadata": {
    "papermill": {
     "duration": null,
     "end_time": null,
     "exception": null,
     "start_time": null,
     "status": "pending"
    },
    "tags": []
   },
   "outputs": [],
   "source": [
    "history_df = pd.DataFrame(history.history)\n",
    "history_df.loc[:, ['loss', 'val_loss']].plot(title = 'Loss curve')"
   ]
  },
  {
   "cell_type": "code",
   "execution_count": null,
   "id": "01f64416",
   "metadata": {
    "papermill": {
     "duration": null,
     "end_time": null,
     "exception": null,
     "start_time": null,
     "status": "pending"
    },
    "tags": []
   },
   "outputs": [],
   "source": [
    "history_df = pd.DataFrame(history.history)\n",
    "history_df.loc[:, ['accuracy', 'val_accuracy']].plot(title = 'Accuracy curve')"
   ]
  },
  {
   "cell_type": "markdown",
   "id": "426eb9d4",
   "metadata": {
    "id": "R41mEDZELv1v",
    "papermill": {
     "duration": null,
     "end_time": null,
     "exception": null,
     "start_time": null,
     "status": "pending"
    },
    "tags": []
   },
   "source": [
    "# Построение нейронной сети в 13 слоев и обучение"
   ]
  },
  {
   "cell_type": "code",
   "execution_count": null,
   "id": "9863daa3",
   "metadata": {
    "id": "cXfHnD8MLv1v",
    "papermill": {
     "duration": null,
     "end_time": null,
     "exception": null,
     "start_time": null,
     "status": "pending"
    },
    "tags": []
   },
   "outputs": [],
   "source": [
    "model=Sequential()\n",
    "model.add(Conv2D(32,(3,3),input_shape=(120,120,3),activation=\"relu\"))\n",
    "model.add(MaxPooling2D(pool_size=(3,3)))\n",
    "model.add(Conv2D(64,(3,3),activation=\"relu\"))\n",
    "model.add(MaxPooling2D(pool_size=(3,3)))\n",
    "model.add(Conv2D(64,(3,3),activation=\"relu\"))\n",
    "model.add(MaxPooling2D(pool_size=(4,4)))\n",
    "model.add(Flatten())\n",
    "model.add(Dense(128,activation=\"relu\"))\n",
    "model.add(Dropout(0.2))\n",
    "model.add(Dense(128,activation=\"relu\"))\n",
    "model.add(Dropout(0.2))\n",
    "model.add(Dense(256,activation=\"relu\"))\n",
    "model.add(Dense(4,activation=\"softmax\"))"
   ]
  },
  {
   "cell_type": "code",
   "execution_count": null,
   "id": "84d53559",
   "metadata": {
    "id": "CVpuynueLv1v",
    "papermill": {
     "duration": null,
     "end_time": null,
     "exception": null,
     "start_time": null,
     "status": "pending"
    },
    "tags": []
   },
   "outputs": [],
   "source": [
    "# early_stopping = tf.keras.callbacks.EarlyStopping(patience=5,min_delta=0.001,restore_best_weights=True)"
   ]
  },
  {
   "cell_type": "markdown",
   "id": "ab94c3ba",
   "metadata": {
    "id": "ex-HoJb-Lv1v",
    "papermill": {
     "duration": null,
     "end_time": null,
     "exception": null,
     "start_time": null,
     "status": "pending"
    },
    "tags": []
   },
   "source": [
    "Сборка и обучение модели"
   ]
  },
  {
   "cell_type": "code",
   "execution_count": null,
   "id": "a453908b",
   "metadata": {
    "id": "AledZxIrLv1v",
    "papermill": {
     "duration": null,
     "end_time": null,
     "exception": null,
     "start_time": null,
     "status": "pending"
    },
    "tags": []
   },
   "outputs": [],
   "source": [
    "model.compile(loss=keras.losses.categorical_crossentropy,\n",
    "             optimizer=keras.optimizers.Adam(),\n",
    "             metrics=[\"accuracy\"])"
   ]
  },
  {
   "cell_type": "code",
   "execution_count": null,
   "id": "6fd53281",
   "metadata": {
    "id": "Xl9VdcDULv1w",
    "papermill": {
     "duration": null,
     "end_time": null,
     "exception": null,
     "start_time": null,
     "status": "pending"
    },
    "tags": []
   },
   "outputs": [],
   "source": [
    "history = model.fit(X_train,y_train,epochs=10,validation_data=(X_test,y_test),batch_size=128,\n",
    "                    verbose=1)"
   ]
  },
  {
   "cell_type": "markdown",
   "id": "48dc34a2",
   "metadata": {
    "papermill": {
     "duration": null,
     "end_time": null,
     "exception": null,
     "start_time": null,
     "status": "pending"
    },
    "tags": []
   },
   "source": [
    "# Анализ результатов обучения"
   ]
  },
  {
   "cell_type": "code",
   "execution_count": null,
   "id": "371a612d",
   "metadata": {
    "id": "nxfGZxgbLv1w",
    "papermill": {
     "duration": null,
     "end_time": null,
     "exception": null,
     "start_time": null,
     "status": "pending"
    },
    "tags": []
   },
   "outputs": [],
   "source": [
    "history_df = pd.DataFrame(history.history)\n",
    "history_df.loc[:, ['loss', 'val_loss']].plot(title = 'Loss curve')"
   ]
  },
  {
   "cell_type": "code",
   "execution_count": null,
   "id": "685ada3d",
   "metadata": {
    "id": "KckmukeoLv1w",
    "papermill": {
     "duration": null,
     "end_time": null,
     "exception": null,
     "start_time": null,
     "status": "pending"
    },
    "tags": []
   },
   "outputs": [],
   "source": [
    "history_df = pd.DataFrame(history.history)\n",
    "history_df.loc[:, ['accuracy', 'val_accuracy']].plot(title = 'Accuracy curve')"
   ]
  },
  {
   "cell_type": "code",
   "execution_count": null,
   "id": "47ab22c2",
   "metadata": {
    "id": "GjcoS_WULv1x",
    "papermill": {
     "duration": null,
     "end_time": null,
     "exception": null,
     "start_time": null,
     "status": "pending"
    },
    "tags": []
   },
   "outputs": [],
   "source": [
    "result = model.evaluate(X_test, y_test)\n",
    "\n",
    "loss = result[0]\n",
    "accuracy = result[1]\n",
    "print(f\"[+] Accuracy: {accuracy*100:.2f}%\")"
   ]
  },
  {
   "cell_type": "code",
   "execution_count": null,
   "id": "74565982",
   "metadata": {
    "id": "0LmMr1fILv1x",
    "papermill": {
     "duration": null,
     "end_time": null,
     "exception": null,
     "start_time": null,
     "status": "pending"
    },
    "tags": []
   },
   "outputs": [],
   "source": [
    "from keras.models import Model\n",
    "model.save('my_model_steel.keras')"
   ]
  },
  {
   "cell_type": "code",
   "execution_count": null,
   "id": "4c5b55ed",
   "metadata": {
    "id": "UQv_QN8pLv1x",
    "papermill": {
     "duration": null,
     "end_time": null,
     "exception": null,
     "start_time": null,
     "status": "pending"
    },
    "tags": []
   },
   "outputs": [],
   "source": [
    "from keras.models import load_model\n",
    "\n",
    "loaded_model = load_model('my_model.h5')\n"
   ]
  },
  {
   "cell_type": "markdown",
   "id": "db6f41a7",
   "metadata": {
    "papermill": {
     "duration": null,
     "end_time": null,
     "exception": null,
     "start_time": null,
     "status": "pending"
    },
    "tags": []
   },
   "source": [
    "# Архитектура созданной нейронной сети"
   ]
  },
  {
   "cell_type": "code",
   "execution_count": null,
   "id": "b0f644e3",
   "metadata": {
    "papermill": {
     "duration": null,
     "end_time": null,
     "exception": null,
     "start_time": null,
     "status": "pending"
    },
    "tags": []
   },
   "outputs": [],
   "source": [
    "model.summary()"
   ]
  },
  {
   "cell_type": "markdown",
   "id": "7051cc2c",
   "metadata": {
    "papermill": {
     "duration": null,
     "end_time": null,
     "exception": null,
     "start_time": null,
     "status": "pending"
    },
    "tags": []
   },
   "source": [
    "# Тестирование на новых примерах"
   ]
  },
  {
   "cell_type": "code",
   "execution_count": null,
   "id": "c6ce65fb",
   "metadata": {
    "papermill": {
     "duration": null,
     "end_time": null,
     "exception": null,
     "start_time": null,
     "status": "pending"
    },
    "tags": []
   },
   "outputs": [],
   "source": [
    "l2[:3]"
   ]
  },
  {
   "cell_type": "code",
   "execution_count": null,
   "id": "b92d28ac",
   "metadata": {
    "papermill": {
     "duration": null,
     "end_time": null,
     "exception": null,
     "start_time": null,
     "status": "pending"
    },
    "tags": []
   },
   "outputs": [],
   "source": [
    "X= np.array(l1[:3])\n",
    "X = X/255\n",
    "\n",
    "y = encoder.fit_transform(l2[:3])\n",
    "y = np.array(y)"
   ]
  },
  {
   "cell_type": "code",
   "execution_count": null,
   "id": "1edf4a5e",
   "metadata": {
    "papermill": {
     "duration": null,
     "end_time": null,
     "exception": null,
     "start_time": null,
     "status": "pending"
    },
    "tags": []
   },
   "outputs": [],
   "source": [
    "plt.imshow(l1[0]);"
   ]
  },
  {
   "cell_type": "code",
   "execution_count": null,
   "id": "59a4c377",
   "metadata": {
    "papermill": {
     "duration": null,
     "end_time": null,
     "exception": null,
     "start_time": null,
     "status": "pending"
    },
    "tags": []
   },
   "outputs": [],
   "source": [
    "plt.imshow(l1[1]);"
   ]
  },
  {
   "cell_type": "code",
   "execution_count": null,
   "id": "0cdfe689",
   "metadata": {
    "papermill": {
     "duration": null,
     "end_time": null,
     "exception": null,
     "start_time": null,
     "status": "pending"
    },
    "tags": []
   },
   "outputs": [],
   "source": [
    "plt.imshow(l1[2]);"
   ]
  },
  {
   "cell_type": "code",
   "execution_count": null,
   "id": "ea343d7e",
   "metadata": {
    "papermill": {
     "duration": null,
     "end_time": null,
     "exception": null,
     "start_time": null,
     "status": "pending"
    },
    "tags": []
   },
   "outputs": [],
   "source": [
    "y =  to_categorical(y)\n",
    "y"
   ]
  },
  {
   "cell_type": "code",
   "execution_count": null,
   "id": "0d414f4c",
   "metadata": {
    "papermill": {
     "duration": null,
     "end_time": null,
     "exception": null,
     "start_time": null,
     "status": "pending"
    },
    "tags": []
   },
   "outputs": [],
   "source": [
    "\n",
    "predictions = model.predict(X)\n",
    "predictions"
   ]
  },
  {
   "cell_type": "markdown",
   "id": "062bebdc",
   "metadata": {
    "papermill": {
     "duration": null,
     "end_time": null,
     "exception": null,
     "start_time": null,
     "status": "pending"
    },
    "tags": []
   },
   "source": [
    "Здесь три эксперимента, где мы видим, что тест № 2 был с меткой 3, но неверно идентифицировался как метка 1."
   ]
  },
  {
   "cell_type": "code",
   "execution_count": null,
   "id": "1f12be01",
   "metadata": {
    "papermill": {
     "duration": null,
     "end_time": null,
     "exception": null,
     "start_time": null,
     "status": "pending"
    },
    "tags": []
   },
   "outputs": [],
   "source": [
    "model.summary()"
   ]
  },
  {
   "cell_type": "markdown",
   "id": "822bf4d1",
   "metadata": {
    "papermill": {
     "duration": null,
     "end_time": null,
     "exception": null,
     "start_time": null,
     "status": "pending"
    },
    "tags": []
   },
   "source": [
    "# описание архитектуры нейронной сети"
   ]
  },
  {
   "cell_type": "markdown",
   "id": "eaddca5f",
   "metadata": {
    "papermill": {
     "duration": null,
     "end_time": null,
     "exception": null,
     "start_time": null,
     "status": "pending"
    },
    "tags": []
   },
   "source": [
    "У нас тут многослойная нейронная сеть с разными типами слоев.\n",
    "\n",
    "теперь по поводу слоев нейронной сети и их особенностей.\n",
    "\n",
    "1 слой - Conv2D. Он используется для выполнения двумерной свертки входных данных. Он применяет набор фильтров к входному изображению или карте объектов, перемещая их по входным данным и вычисляя скалярное произведение в каждом месте. Эта операция позволяет слою извлекать объекты и фиксировать пространственные отношения во входных данных. Уровень Conv2D обычно используется в сверточных нейронных сетях (CNN) для таких задач, как классификация изображений, обнаружение объектов и сегментация изображений.\n",
    "\n",
    "2 слой - MaxPooling2D.  Это  операция понижающей дискретизации, которая уменьшает пространственные размеры (ширину и высоту) входного изображения или карты объектов. Он делит входные данные на непересекающиеся прямоугольники и выводит максимальное значение внутри каждого прямоугольника. Это помогает извлечь наиболее важные функции и снизить вычислительные требования для последующих слоев.\n",
    "\n",
    "Далее эти слои повторяются еще 2 раза.\n",
    "\n",
    "7 слой - Flatten. он преобразует входной тензор в одномерный массив, эффективно выравнивая его. Он принимает многомерный входной тензор, например двумерное изображение, и преобразует его в одномерный вектор, который можно использовать в качестве входных данных для полностью связного слоя или любого другого слоя, который ожидает одномерных входных данных.\n",
    "\n",
    "8 слой - Dense. это полностью связный слой, который соединяет каждый нейрон предыдущего слоя с каждым нейроном текущего слоя. Он выполняет линейную операцию над входными данными, за которой следует функция активации, позволяющая сети изучать сложные закономерности и взаимосвязи в данных. Количество нейронов в плотном слое определяет размерность вывода.\n",
    "\n",
    "9 cлой - Dropout. это метод регуляризации, используемый для уменьшения переобучения в нейронных сетях. Он случайным образом устанавливает для части входных единиц значение 0 на каждом этапе обучения, что помогает предотвратить слишком большую зависимость сети от конкретных функций или корреляций. Dropout улучшает способность модели к обобщению за счет внесения шума во время обучения и побуждает сеть изучать более надежные и независимые представления.\n",
    "\n",
    "Далее слои повторяются.\n",
    "\n",
    "В итоге в данной нейронной сети 12 различных слоев, и 139 780 параметров."
   ]
  },
  {
   "cell_type": "markdown",
   "id": "c144dcb0",
   "metadata": {},
   "source": [
    "Вывод:\n",
    "Лучший результат показала трехслойная НС (Accuracy: 92.40%), был также опробован метод защиты от переобучения (EarlyStopping), метод настройки скорости обучения (см. ДЗ webinar_3.ipynb) плохо показал себя, если просто задать оптимизатор Adam без настройки скорости обучения, то результаты гораздо лучше."
   ]
  }
 ],
 "metadata": {
  "accelerator": "GPU",
  "colab": {
   "gpuType": "T4",
   "provenance": []
  },
  "kaggle": {
   "accelerator": "none",
   "dataSources": [
    {
     "databundleVersionId": 862020,
     "sourceId": 14241,
     "sourceType": "competition"
    }
   ],
   "dockerImageVersionId": 30626,
   "isGpuEnabled": false,
   "isInternetEnabled": true,
   "language": "python",
   "sourceType": "notebook"
  },
  "kernelspec": {
   "display_name": "Python 3",
   "language": "python",
   "name": "python3"
  },
  "language_info": {
   "codemirror_mode": {
    "name": "ipython",
    "version": 3
   },
   "file_extension": ".py",
   "mimetype": "text/x-python",
   "name": "python",
   "nbconvert_exporter": "python",
   "pygments_lexer": "ipython3",
   "version": "3.8.10"
  },
  "papermill": {
   "default_parameters": {},
   "duration": 1062.742156,
   "end_time": "2023-12-27T08:15:53.589044",
   "environment_variables": {},
   "exception": true,
   "input_path": "__notebook__.ipynb",
   "output_path": "__notebook__.ipynb",
   "parameters": {},
   "start_time": "2023-12-27T07:58:10.846888",
   "version": "2.2.2"
  }
 },
 "nbformat": 4,
 "nbformat_minor": 5
}
